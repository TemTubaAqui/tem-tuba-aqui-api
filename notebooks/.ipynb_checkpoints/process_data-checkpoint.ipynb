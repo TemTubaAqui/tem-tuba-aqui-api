{
 "cells": [
  {
   "cell_type": "code",
   "execution_count": 1,
   "metadata": {},
   "outputs": [
    {
     "data": {
      "application/javascript": [
       "IPython.notebook.set_autosave_interval(60000)"
      ]
     },
     "metadata": {},
     "output_type": "display_data"
    },
    {
     "name": "stdout",
     "output_type": "stream",
     "text": [
      "Autosaving every 60 seconds\n"
     ]
    }
   ],
   "source": [
    "%load_ext autoreload\n",
    "%autoreload 2\n",
    "%autosave 60"
   ]
  },
  {
   "cell_type": "code",
   "execution_count": 2,
   "metadata": {},
   "outputs": [
    {
     "data": {
      "text/plain": [
       "'/usr/src/app'"
      ]
     },
     "execution_count": 2,
     "metadata": {},
     "output_type": "execute_result"
    }
   ],
   "source": [
    "import os\n",
    "\n",
    "os.chdir('/usr/src/app')\n",
    "os.getcwd()"
   ]
  },
  {
   "cell_type": "code",
   "execution_count": 3,
   "metadata": {},
   "outputs": [],
   "source": [
    "from app.shared.utils import temp_folder, download_file"
   ]
  },
  {
   "cell_type": "code",
   "execution_count": 4,
   "metadata": {},
   "outputs": [],
   "source": [
    "import pandas as pd\n",
    "\n",
    "dataset = 'https://public.opendatasoft.com/api/explore/v2.1/catalog/datasets/global-shark-attack/exports/csv?delimiter=%3B'\n",
    "\n",
    "with temp_folder() as folder:\n",
    "    file = f\"{folder}/dataset.csv\"\n",
    "    download_file(dataset, file)\n",
    "    df = pd.read_csv(file, delimiter=\";\")"
   ]
  },
  {
   "cell_type": "code",
   "execution_count": 5,
   "metadata": {},
   "outputs": [
    {
     "data": {
      "text/html": [
       "<div>\n",
       "<style scoped>\n",
       "    .dataframe tbody tr th:only-of-type {\n",
       "        vertical-align: middle;\n",
       "    }\n",
       "\n",
       "    .dataframe tbody tr th {\n",
       "        vertical-align: top;\n",
       "    }\n",
       "\n",
       "    .dataframe thead th {\n",
       "        text-align: right;\n",
       "    }\n",
       "</style>\n",
       "<table border=\"1\" class=\"dataframe\">\n",
       "  <thead>\n",
       "    <tr style=\"text-align: right;\">\n",
       "      <th></th>\n",
       "      <th>date</th>\n",
       "      <th>year</th>\n",
       "      <th>type</th>\n",
       "      <th>country</th>\n",
       "      <th>area</th>\n",
       "      <th>location</th>\n",
       "      <th>activity</th>\n",
       "      <th>name</th>\n",
       "      <th>sex</th>\n",
       "      <th>age</th>\n",
       "      <th>...</th>\n",
       "      <th>fatal_y_n</th>\n",
       "      <th>time</th>\n",
       "      <th>species</th>\n",
       "      <th>investigator_or_source</th>\n",
       "      <th>pdf</th>\n",
       "      <th>href_formula</th>\n",
       "      <th>href</th>\n",
       "      <th>case_number</th>\n",
       "      <th>case_number0</th>\n",
       "      <th>original_order</th>\n",
       "    </tr>\n",
       "  </thead>\n",
       "  <tbody>\n",
       "    <tr>\n",
       "      <th>0</th>\n",
       "      <td>2023-04-09</td>\n",
       "      <td>2023.0</td>\n",
       "      <td>Unprovoked</td>\n",
       "      <td>USA</td>\n",
       "      <td>Hawaii</td>\n",
       "      <td>Kewalos, Oahu</td>\n",
       "      <td>Surfing</td>\n",
       "      <td>Mike Morita</td>\n",
       "      <td>M</td>\n",
       "      <td>58</td>\n",
       "      <td>...</td>\n",
       "      <td>N</td>\n",
       "      <td>07h00</td>\n",
       "      <td>Tiger shark</td>\n",
       "      <td>Khon2, 4/9/2023</td>\n",
       "      <td>NaN</td>\n",
       "      <td>NaN</td>\n",
       "      <td>NaN</td>\n",
       "      <td>NaN</td>\n",
       "      <td>NaN</td>\n",
       "      <td>NaN</td>\n",
       "    </tr>\n",
       "    <tr>\n",
       "      <th>1</th>\n",
       "      <td>2023-03-06</td>\n",
       "      <td>2023.0</td>\n",
       "      <td>Unprovoked</td>\n",
       "      <td>BRAZIL</td>\n",
       "      <td>Pernambuco</td>\n",
       "      <td>Piedade Beach</td>\n",
       "      <td>Swimming</td>\n",
       "      <td>Kaylane Timóteo Freitas</td>\n",
       "      <td>F</td>\n",
       "      <td>15</td>\n",
       "      <td>...</td>\n",
       "      <td>N</td>\n",
       "      <td>14h20</td>\n",
       "      <td>NaN</td>\n",
       "      <td>JC, 3/6/2023</td>\n",
       "      <td>NaN</td>\n",
       "      <td>NaN</td>\n",
       "      <td>NaN</td>\n",
       "      <td>NaN</td>\n",
       "      <td>NaN</td>\n",
       "      <td>NaN</td>\n",
       "    </tr>\n",
       "    <tr>\n",
       "      <th>2</th>\n",
       "      <td>2022-08-10</td>\n",
       "      <td>2022.0</td>\n",
       "      <td>Unprovoked</td>\n",
       "      <td>USA</td>\n",
       "      <td>California</td>\n",
       "      <td>Lovers Point, Pacific Grove, Monterey County</td>\n",
       "      <td>Paddleboarding</td>\n",
       "      <td>David Stickler &amp;  Brutus (dog)</td>\n",
       "      <td>M</td>\n",
       "      <td>NaN</td>\n",
       "      <td>...</td>\n",
       "      <td>N</td>\n",
       "      <td>11h30</td>\n",
       "      <td>NaN</td>\n",
       "      <td>A .Currie, GSAF</td>\n",
       "      <td>2022.08.10-Stickler-Brutus.pdf</td>\n",
       "      <td>http://sharkattackfile.net/spreadsheets/pdf_di...</td>\n",
       "      <td>http://sharkattackfile.net/spreadsheets/pdf_di...</td>\n",
       "      <td>2022.08.10</td>\n",
       "      <td>2022.08.10</td>\n",
       "      <td>6793.0</td>\n",
       "    </tr>\n",
       "    <tr>\n",
       "      <th>3</th>\n",
       "      <td>2022-07-07</td>\n",
       "      <td>2022.0</td>\n",
       "      <td>Unprovoked</td>\n",
       "      <td>USA</td>\n",
       "      <td>New York</td>\n",
       "      <td>Ocean Beach, Long Island</td>\n",
       "      <td>Lifeguard Training Exercise</td>\n",
       "      <td>John Mullins</td>\n",
       "      <td>M</td>\n",
       "      <td>17.0</td>\n",
       "      <td>...</td>\n",
       "      <td>N</td>\n",
       "      <td>11hoo</td>\n",
       "      <td>NaN</td>\n",
       "      <td>ABC7, 7/9/2022</td>\n",
       "      <td>2022.07.07-Mullins.pdf</td>\n",
       "      <td>http://sharkattackfile.net/spreadsheets/pdf_di...</td>\n",
       "      <td>http://sharkattackfile.net/spreadsheets/pdf_di...</td>\n",
       "      <td>2022.07.07</td>\n",
       "      <td>2022.07.07</td>\n",
       "      <td>6781.0</td>\n",
       "    </tr>\n",
       "    <tr>\n",
       "      <th>4</th>\n",
       "      <td>2022-06-21</td>\n",
       "      <td>2022.0</td>\n",
       "      <td>Unprovoked</td>\n",
       "      <td>USA</td>\n",
       "      <td>South Carolina</td>\n",
       "      <td>Myrtle Beach, Horry County</td>\n",
       "      <td>NaN</td>\n",
       "      <td>male</td>\n",
       "      <td>M</td>\n",
       "      <td>teen</td>\n",
       "      <td>...</td>\n",
       "      <td>N</td>\n",
       "      <td>NaN</td>\n",
       "      <td>NaN</td>\n",
       "      <td>C. Creswll, GSAF</td>\n",
       "      <td>2022.06.21-AC.pdf</td>\n",
       "      <td>http://sharkattackfile.net/spreadsheets/pdf_di...</td>\n",
       "      <td>http://sharkattackfile.net/spreadsheets/pdf_di...</td>\n",
       "      <td>2022.06.21</td>\n",
       "      <td>2022.06.21</td>\n",
       "      <td>6766.0</td>\n",
       "    </tr>\n",
       "  </tbody>\n",
       "</table>\n",
       "<p>5 rows × 21 columns</p>\n",
       "</div>"
      ],
      "text/plain": [
       "         date    year        type country            area  \\\n",
       "0  2023-04-09  2023.0  Unprovoked     USA          Hawaii   \n",
       "1  2023-03-06  2023.0  Unprovoked  BRAZIL      Pernambuco   \n",
       "2  2022-08-10  2022.0  Unprovoked     USA      California   \n",
       "3  2022-07-07  2022.0  Unprovoked     USA        New York   \n",
       "4  2022-06-21  2022.0  Unprovoked     USA  South Carolina   \n",
       "\n",
       "                                       location                     activity  \\\n",
       "0                                 Kewalos, Oahu                      Surfing   \n",
       "1                                 Piedade Beach                     Swimming   \n",
       "2  Lovers Point, Pacific Grove, Monterey County               Paddleboarding   \n",
       "3                      Ocean Beach, Long Island  Lifeguard Training Exercise   \n",
       "4                    Myrtle Beach, Horry County                          NaN   \n",
       "\n",
       "                             name sex   age  ... fatal_y_n   time  \\\n",
       "0                     Mike Morita   M    58  ...         N  07h00   \n",
       "1         Kaylane Timóteo Freitas   F    15  ...         N  14h20   \n",
       "2  David Stickler &  Brutus (dog)   M   NaN  ...         N  11h30   \n",
       "3                    John Mullins   M  17.0  ...         N  11hoo   \n",
       "4                            male   M  teen  ...         N    NaN   \n",
       "\n",
       "       species investigator_or_source                             pdf  \\\n",
       "0  Tiger shark        Khon2, 4/9/2023                             NaN   \n",
       "1          NaN           JC, 3/6/2023                             NaN   \n",
       "2          NaN        A .Currie, GSAF  2022.08.10-Stickler-Brutus.pdf   \n",
       "3          NaN         ABC7, 7/9/2022          2022.07.07-Mullins.pdf   \n",
       "4          NaN       C. Creswll, GSAF               2022.06.21-AC.pdf   \n",
       "\n",
       "                                        href_formula  \\\n",
       "0                                                NaN   \n",
       "1                                                NaN   \n",
       "2  http://sharkattackfile.net/spreadsheets/pdf_di...   \n",
       "3  http://sharkattackfile.net/spreadsheets/pdf_di...   \n",
       "4  http://sharkattackfile.net/spreadsheets/pdf_di...   \n",
       "\n",
       "                                                href case_number case_number0  \\\n",
       "0                                                NaN         NaN          NaN   \n",
       "1                                                NaN         NaN          NaN   \n",
       "2  http://sharkattackfile.net/spreadsheets/pdf_di...  2022.08.10   2022.08.10   \n",
       "3  http://sharkattackfile.net/spreadsheets/pdf_di...  2022.07.07   2022.07.07   \n",
       "4  http://sharkattackfile.net/spreadsheets/pdf_di...  2022.06.21   2022.06.21   \n",
       "\n",
       "  original_order  \n",
       "0            NaN  \n",
       "1            NaN  \n",
       "2         6793.0  \n",
       "3         6781.0  \n",
       "4         6766.0  \n",
       "\n",
       "[5 rows x 21 columns]"
      ]
     },
     "execution_count": 5,
     "metadata": {},
     "output_type": "execute_result"
    }
   ],
   "source": [
    "df.head()"
   ]
  },
  {
   "cell_type": "code",
   "execution_count": null,
   "metadata": {},
   "outputs": [],
   "source": [
    "df[df[\"Country\"].str.lower() == \"brazil\"][[\"Location\"]]"
   ]
  },
  {
   "cell_type": "code",
   "execution_count": null,
   "metadata": {},
   "outputs": [],
   "source": [
    "df[\"original order\"]"
   ]
  }
 ],
 "metadata": {
  "kernelspec": {
   "display_name": "Python 3",
   "language": "python",
   "name": "python3"
  },
  "language_info": {
   "codemirror_mode": {
    "name": "ipython",
    "version": 3
   },
   "file_extension": ".py",
   "mimetype": "text/x-python",
   "name": "python",
   "nbconvert_exporter": "python",
   "pygments_lexer": "ipython3",
   "version": "3.11.4"
  }
 },
 "nbformat": 4,
 "nbformat_minor": 4
}
