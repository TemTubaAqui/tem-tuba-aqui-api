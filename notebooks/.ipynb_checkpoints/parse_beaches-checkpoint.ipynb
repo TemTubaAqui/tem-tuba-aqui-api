{
 "cells": [
  {
   "cell_type": "code",
   "execution_count": 1,
   "id": "b88dbe52-379f-48b6-a6ef-8c0617ac8b19",
   "metadata": {},
   "outputs": [],
   "source": [
    "import requests\n",
    "from bs4 import BeautifulSoup"
   ]
  },
  {
   "cell_type": "code",
   "execution_count": null,
   "id": "6ba9b132-0a82-4c05-900f-01f4e447b3e1",
   "metadata": {},
   "outputs": [],
   "source": [
    "def get_html(url: str)\n",
    "    res = requests."
   ]
  }
 ],
 "metadata": {
  "kernelspec": {
   "display_name": "Python 3",
   "language": "python",
   "name": "python3"
  },
  "language_info": {
   "codemirror_mode": {
    "name": "ipython",
    "version": 3
   },
   "file_extension": ".py",
   "mimetype": "text/x-python",
   "name": "python",
   "nbconvert_exporter": "python",
   "pygments_lexer": "ipython3",
   "version": "3.11.4"
  }
 },
 "nbformat": 4,
 "nbformat_minor": 5
}
