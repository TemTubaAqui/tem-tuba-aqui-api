{
 "cells": [
  {
   "cell_type": "code",
   "execution_count": 11,
   "metadata": {},
   "outputs": [
    {
     "name": "stdout",
     "output_type": "stream",
     "text": [
      "The autoreload extension is already loaded. To reload it, use:\n",
      "  %reload_ext autoreload\n"
     ]
    },
    {
     "data": {
      "application/javascript": "IPython.notebook.set_autosave_interval(60000)"
     },
     "metadata": {},
     "output_type": "display_data"
    },
    {
     "name": "stdout",
     "output_type": "stream",
     "text": [
      "Autosaving every 60 seconds\n"
     ]
    }
   ],
   "source": [
    "%load_ext autoreload\n",
    "%autoreload 2\n",
    "%autosave 60"
   ]
  },
  {
   "cell_type": "code",
   "execution_count": 12,
   "metadata": {},
   "outputs": [],
   "source": [
    "import os\n",
    "\n",
    "os.chdir(\"/usr/src/app\")"
   ]
  },
  {
   "cell_type": "code",
   "execution_count": 13,
   "metadata": {},
   "outputs": [
    {
     "data": {
      "text/html": [
       "<div><style>\n",
       ".dataframe > thead > tr > th,\n",
       ".dataframe > tbody > tr > td {\n",
       "  text-align: right;\n",
       "}\n",
       "</style>\n",
       "<small>shape: (5, 21)</small><table border=\"1\" class=\"dataframe\"><thead><tr><th>date</th><th>year</th><th>type</th><th>country</th><th>area</th><th>location</th><th>activity</th><th>name</th><th>sex</th><th>age</th><th>injury</th><th>fatal_y_n</th><th>time</th><th>species</th><th>investigator_or_source</th><th>pdf</th><th>href_formula</th><th>href</th><th>case_number</th><th>case_number0</th><th>original_order</th></tr><tr><td>str</td><td>i64</td><td>str</td><td>str</td><td>str</td><td>str</td><td>str</td><td>str</td><td>str</td><td>str</td><td>str</td><td>str</td><td>str</td><td>str</td><td>str</td><td>str</td><td>str</td><td>str</td><td>str</td><td>str</td><td>i64</td></tr></thead><tbody><tr><td>&quot;2023-07-04&quot;</td><td>2023</td><td>&quot;Unprovoked&quot;</td><td>&quot;USA&quot;</td><td>&quot;New York&quot;</td><td>&quot;Cherry Grove, …</td><td>&quot;Standing&quot;</td><td>&quot;female&quot;</td><td>&quot;F&quot;</td><td>null</td><td>&quot;Puncture wound…</td><td>&quot;N&quot;</td><td>&quot;16h25&quot;</td><td>&quot;4&#x27; shark&quot;</td><td>&quot;S.S. Curatolo-…</td><td>null</td><td>null</td><td>null</td><td>null</td><td>null</td><td>null</td></tr><tr><td>null</td><td>2023</td><td>&quot;Unprovoked&quot;</td><td>&quot;USA&quot;</td><td>&quot;Florida&quot;</td><td>&quot;Outer Mole, Fo…</td><td>&quot;Swimming&quot;</td><td>&quot;Nicolae Cioban…</td><td>&quot;M&quot;</td><td>&quot;34&quot;</td><td>&quot;Lacerations to…</td><td>&quot;N&quot;</td><td>&quot;14h00&quot;</td><td>null</td><td>&quot;Miami Herald, …</td><td>null</td><td>null</td><td>null</td><td>null</td><td>null</td><td>null</td></tr><tr><td>&quot;2022-07-19&quot;</td><td>2022</td><td>&quot;Questionable&quot;</td><td>&quot;USA&quot;</td><td>&quot;Florida&quot;</td><td>&quot;Cape Canaveral…</td><td>null</td><td>null</td><td>null</td><td>null</td><td>&quot;minor injuries…</td><td>&quot;N&quot;</td><td>&quot;10jh45&quot;</td><td>&quot;Shark involvem…</td><td>&quot;WESH, 7/20/202…</td><td>&quot;2022.07.19.b-C…</td><td>&quot;http://sharkat…</td><td>&quot;http://sharkat…</td><td>&quot;2022.07.19.b&quot;</td><td>&quot;2022.07.19.b&quot;</td><td>6788</td></tr><tr><td>&quot;2022-02-05&quot;</td><td>2022</td><td>&quot;Unprovoked&quot;</td><td>&quot;AUSTRALIA&quot;</td><td>&quot;Western Austra…</td><td>&quot;Beds, Wylie Ba…</td><td>&quot;Floating in in…</td><td>&quot;Jacquelin Morl…</td><td>&quot;F&quot;</td><td>&quot;20.0&quot;</td><td>&quot;Torso bitten&quot;</td><td>&quot;N&quot;</td><td>&quot;11h15&quot;</td><td>&quot;White shark&quot;</td><td>&quot;K. McMurray, T…</td><td>&quot;2022.02.05-Mor…</td><td>&quot;http://sharkat…</td><td>&quot;http://sharkat…</td><td>&quot;2022.02.05&quot;</td><td>&quot;2022.02.05&quot;</td><td>6734</td></tr><tr><td>&quot;2022-01-09&quot;</td><td>2022</td><td>&quot;Unprovoked&quot;</td><td>&quot;NEW ZEALAND&quot;</td><td>&quot;South Island&quot;</td><td>&quot;Friendly Bay, …</td><td>&quot;Swimming&quot;</td><td>&quot;Alvira Repia-K…</td><td>&quot;F&quot;</td><td>&quot;13.0&quot;</td><td>&quot;Puncture wound…</td><td>&quot;N&quot;</td><td>&quot;16h30&quot;</td><td>&quot;Sevengill shar…</td><td>&quot;Otago Daily Ti…</td><td>&quot;2022.01.09-Rep…</td><td>&quot;http://sharkat…</td><td>&quot;http://sharkat…</td><td>&quot;2022.01.09&quot;</td><td>&quot;2022.01.09&quot;</td><td>6730</td></tr></tbody></table></div>"
      ],
      "text/plain": [
       "shape: (5, 21)\n",
       "┌────────────┬──────┬────────────┬────────────┬───┬────────────┬───────────┬───────────┬───────────┐\n",
       "│ date       ┆ year ┆ type       ┆ country    ┆ … ┆ href       ┆ case_numb ┆ case_numb ┆ original_ │\n",
       "│ ---        ┆ ---  ┆ ---        ┆ ---        ┆   ┆ ---        ┆ er        ┆ er0       ┆ order     │\n",
       "│ str        ┆ i64  ┆ str        ┆ str        ┆   ┆ str        ┆ ---       ┆ ---       ┆ ---       │\n",
       "│            ┆      ┆            ┆            ┆   ┆            ┆ str       ┆ str       ┆ i64       │\n",
       "╞════════════╪══════╪════════════╪════════════╪═══╪════════════╪═══════════╪═══════════╪═══════════╡\n",
       "│ 2023-07-04 ┆ 2023 ┆ Unprovoked ┆ USA        ┆ … ┆ null       ┆ null      ┆ null      ┆ null      │\n",
       "│ null       ┆ 2023 ┆ Unprovoked ┆ USA        ┆ … ┆ null       ┆ null      ┆ null      ┆ null      │\n",
       "│ 2022-07-19 ┆ 2022 ┆ Questionab ┆ USA        ┆ … ┆ http://sha ┆ 2022.07.1 ┆ 2022.07.1 ┆ 6788      │\n",
       "│            ┆      ┆ le         ┆            ┆   ┆ rkattackfi ┆ 9.b       ┆ 9.b       ┆           │\n",
       "│            ┆      ┆            ┆            ┆   ┆ le.net/spr ┆           ┆           ┆           │\n",
       "│            ┆      ┆            ┆            ┆   ┆ ea…        ┆           ┆           ┆           │\n",
       "│ 2022-02-05 ┆ 2022 ┆ Unprovoked ┆ AUSTRALIA  ┆ … ┆ http://sha ┆ 2022.02.0 ┆ 2022.02.0 ┆ 6734      │\n",
       "│            ┆      ┆            ┆            ┆   ┆ rkattackfi ┆ 5         ┆ 5         ┆           │\n",
       "│            ┆      ┆            ┆            ┆   ┆ le.net/spr ┆           ┆           ┆           │\n",
       "│            ┆      ┆            ┆            ┆   ┆ ea…        ┆           ┆           ┆           │\n",
       "│ 2022-01-09 ┆ 2022 ┆ Unprovoked ┆ NEW        ┆ … ┆ http://sha ┆ 2022.01.0 ┆ 2022.01.0 ┆ 6730      │\n",
       "│            ┆      ┆            ┆ ZEALAND    ┆   ┆ rkattackfi ┆ 9         ┆ 9         ┆           │\n",
       "│            ┆      ┆            ┆            ┆   ┆ le.net/spr ┆           ┆           ┆           │\n",
       "│            ┆      ┆            ┆            ┆   ┆ ea…        ┆           ┆           ┆           │\n",
       "└────────────┴──────┴────────────┴────────────┴───┴────────────┴───────────┴───────────┴───────────┘"
      ]
     },
     "execution_count": 13,
     "metadata": {},
     "output_type": "execute_result"
    }
   ],
   "source": [
    "import requests\n",
    "\n",
    "import polars as pl\n",
    "\n",
    "dataset = 'https://public.opendatasoft.com/api/explore/v2.1/catalog/datasets/global-shark-attack/exports/csv?delimiter=%3B'\n",
    "\n",
    "df = pl.read_csv(requests.get(dataset).content, separator=';')\n",
    "df.head()"
   ]
  },
  {
   "cell_type": "code",
   "execution_count": 14,
   "metadata": {},
   "outputs": [
    {
     "data": {
      "text/html": [
       "<div><style>\n",
       ".dataframe > thead > tr > th,\n",
       ".dataframe > tbody > tr > td {\n",
       "  text-align: right;\n",
       "}\n",
       "</style>\n",
       "<small>shape: (5, 21)</small><table border=\"1\" class=\"dataframe\"><thead><tr><th>date</th><th>year</th><th>type</th><th>country</th><th>location</th><th>activity</th><th>name</th><th>sex</th><th>age</th><th>injury</th><th>fatal_y_n</th><th>time</th><th>species</th><th>investigator_or_source</th><th>pdf</th><th>href_formula</th><th>href</th><th>case_number</th><th>case_number0</th><th>original_order</th><th>state</th></tr><tr><td>str</td><td>i64</td><td>str</td><td>str</td><td>str</td><td>str</td><td>str</td><td>str</td><td>str</td><td>str</td><td>str</td><td>str</td><td>str</td><td>str</td><td>str</td><td>str</td><td>str</td><td>str</td><td>str</td><td>i64</td><td>str</td></tr></thead><tbody><tr><td>&quot;2008-06-01&quot;</td><td>2008</td><td>&quot;Unprovoked&quot;</td><td>&quot;BR&quot;</td><td>&quot;Piedade, Recif…</td><td>&quot;Swimming&quot;</td><td>&quot;Wellington dos…</td><td>&quot;M&quot;</td><td>&quot;14&quot;</td><td>&quot;Hand severed, …</td><td>&quot;N&quot;</td><td>&quot;15h00&quot;</td><td>&quot;Bull shark&quot;</td><td>&quot;Associated Pre…</td><td>&quot;2008.06.01-San…</td><td>&quot;http://sharkat…</td><td>&quot;http://sharkat…</td><td>&quot;2008.06.01.a&quot;</td><td>&quot;2008.06.01.a&quot;</td><td>5075</td><td>&quot;PE&quot;</td></tr><tr><td>&quot;1997-07-02&quot;</td><td>1997</td><td>&quot;Unprovoked&quot;</td><td>&quot;BR&quot;</td><td>&quot;Paiva&quot;</td><td>&quot;Surfing&quot;</td><td>&quot;Jurandir Amori…</td><td>null</td><td>null</td><td>&quot;Right thigh bi…</td><td>&quot;N&quot;</td><td>null</td><td>null</td><td>&quot;D. Duarte; Glo…</td><td>&quot;1997.07.02-Jur…</td><td>&quot;http://sharkat…</td><td>&quot;http://sharkat…</td><td>&quot;1997.07.02.R&quot;</td><td>&quot;1997.07.02.R&quot;</td><td>4081</td><td>&quot;PE&quot;</td></tr><tr><td>&quot;1996-10-28&quot;</td><td>1996</td><td>&quot;Unprovoked&quot;</td><td>&quot;BR&quot;</td><td>&quot;Barra de Janga…</td><td>&quot;Surfing&quot;</td><td>&quot;Luis Henrique …</td><td>&quot;M&quot;</td><td>null</td><td>&quot;Survived&quot;</td><td>&quot;N&quot;</td><td>null</td><td>null</td><td>&quot;JCOnline&quot;</td><td>&quot;1996.10.28.a-M…</td><td>&quot;http://sharkat…</td><td>&quot;http://sharkat…</td><td>&quot;1996.10.28.a&quot;</td><td>&quot;1996.10.28.a&quot;</td><td>4053</td><td>&quot;PE&quot;</td></tr><tr><td>&quot;2009-09-07&quot;</td><td>2009</td><td>&quot;Unprovoked&quot;</td><td>&quot;BR&quot;</td><td>&quot;Piedade, Recif…</td><td>&quot;Swimming, atte…</td><td>&quot;Geovanni Tiago…</td><td>&quot;M&quot;</td><td>&quot;15&quot;</td><td>&quot;FATAL&quot;</td><td>&quot;Y&quot;</td><td>&quot;Afternoon&quot;</td><td>null</td><td>&quot;C. Eksander, G…</td><td>&quot;2009.09.07-Bar…</td><td>&quot;http://sharkat…</td><td>&quot;http://sharkat…</td><td>&quot;2009.09.07&quot;</td><td>&quot;2009.09.07&quot;</td><td>5236</td><td>&quot;PE&quot;</td></tr><tr><td>&quot;2018-06-03&quot;</td><td>2018</td><td>&quot;Unprovoked&quot;</td><td>&quot;BR&quot;</td><td>&quot;Piedade Beach,…</td><td>&quot;Swimming&quot;</td><td>&quot;Jose Ernesto d…</td><td>&quot;M&quot;</td><td>&quot;18.0&quot;</td><td>&quot;FATAL&quot;</td><td>&quot;Y&quot;</td><td>&quot;Late afternoon…</td><td>&quot;Tiger shark&quot;</td><td>&quot;Diario de Pern…</td><td>&quot;2018.06.03.a-d…</td><td>&quot;http://sharkat…</td><td>&quot;http://sharkat…</td><td>&quot;2018.06.03.a&quot;</td><td>&quot;2018.06.03.a&quot;</td><td>6328</td><td>&quot;PE&quot;</td></tr></tbody></table></div>"
      ],
      "text/plain": [
       "shape: (5, 21)\n",
       "┌────────────┬──────┬────────────┬─────────┬───┬──────────────┬──────────────┬─────────────┬───────┐\n",
       "│ date       ┆ year ┆ type       ┆ country ┆ … ┆ case_number  ┆ case_number0 ┆ original_or ┆ state │\n",
       "│ ---        ┆ ---  ┆ ---        ┆ ---     ┆   ┆ ---          ┆ ---          ┆ der         ┆ ---   │\n",
       "│ str        ┆ i64  ┆ str        ┆ str     ┆   ┆ str          ┆ str          ┆ ---         ┆ str   │\n",
       "│            ┆      ┆            ┆         ┆   ┆              ┆              ┆ i64         ┆       │\n",
       "╞════════════╪══════╪════════════╪═════════╪═══╪══════════════╪══════════════╪═════════════╪═══════╡\n",
       "│ 2008-06-01 ┆ 2008 ┆ Unprovoked ┆ BR      ┆ … ┆ 2008.06.01.a ┆ 2008.06.01.a ┆ 5075        ┆ PE    │\n",
       "│ 1997-07-02 ┆ 1997 ┆ Unprovoked ┆ BR      ┆ … ┆ 1997.07.02.R ┆ 1997.07.02.R ┆ 4081        ┆ PE    │\n",
       "│ 1996-10-28 ┆ 1996 ┆ Unprovoked ┆ BR      ┆ … ┆ 1996.10.28.a ┆ 1996.10.28.a ┆ 4053        ┆ PE    │\n",
       "│ 2009-09-07 ┆ 2009 ┆ Unprovoked ┆ BR      ┆ … ┆ 2009.09.07   ┆ 2009.09.07   ┆ 5236        ┆ PE    │\n",
       "│ 2018-06-03 ┆ 2018 ┆ Unprovoked ┆ BR      ┆ … ┆ 2018.06.03.a ┆ 2018.06.03.a ┆ 6328        ┆ PE    │\n",
       "└────────────┴──────┴────────────┴─────────┴───┴──────────────┴──────────────┴─────────────┴───────┘"
      ]
     },
     "execution_count": 14,
     "metadata": {},
     "output_type": "execute_result"
    }
   ],
   "source": [
    "from app.shared.constants import CountryMap, StateMap\n",
    "\n",
    "attack_df = (\n",
    "    df\n",
    "    .with_columns(\n",
    "        country=pl.col(\"country\").str.to_lowercase().map_dict(CountryMap.reverse_records),\n",
    "        state=pl.col(\"area\").str.to_lowercase().map_dict(StateMap.reverse_records),\n",
    "    )\n",
    "    .drop(\"area\")\n",
    "    .drop_nulls([\"country\", \"state\"])\n",
    ")\n",
    "attack_df.head()"
   ]
  },
  {
   "cell_type": "code",
   "execution_count": 15,
   "metadata": {},
   "outputs": [
    {
     "data": {
      "text/html": [
       "<div><style>\n",
       ".dataframe > thead > tr > th,\n",
       ".dataframe > tbody > tr > td {\n",
       "  text-align: right;\n",
       "}\n",
       "</style>\n",
       "<small>shape: (5, 7)</small><table border=\"1\" class=\"dataframe\"><thead><tr><th>id</th><th>city</th><th>state</th><th>country</th><th>name</th><th>latitude</th><th>longitude</th></tr><tr><td>i64</td><td>str</td><td>str</td><td>str</td><td>str</td><td>f64</td><td>f64</td></tr></thead><tbody><tr><td>1</td><td>&quot;Goiana&quot;</td><td>&quot;PE&quot;</td><td>&quot;BR&quot;</td><td>&quot;Carne de Vaca&quot;</td><td>0.0</td><td>0.0</td></tr><tr><td>2</td><td>&quot;Goiana&quot;</td><td>&quot;PE&quot;</td><td>&quot;BR&quot;</td><td>&quot;Pontas de Pedr…</td><td>0.0</td><td>0.0</td></tr><tr><td>3</td><td>&quot;Goiana&quot;</td><td>&quot;PE&quot;</td><td>&quot;BR&quot;</td><td>&quot;Barra de Catua…</td><td>0.0</td><td>0.0</td></tr><tr><td>4</td><td>&quot;Goiana&quot;</td><td>&quot;PE&quot;</td><td>&quot;BR&quot;</td><td>&quot;catuama&quot;</td><td>0.0</td><td>0.0</td></tr><tr><td>5</td><td>&quot;Goiana&quot;</td><td>&quot;PE&quot;</td><td>&quot;BR&quot;</td><td>&quot;Atapuz&quot;</td><td>0.0</td><td>0.0</td></tr></tbody></table></div>"
      ],
      "text/plain": [
       "shape: (5, 7)\n",
       "┌─────┬────────┬───────┬─────────┬──────────────────┬──────────┬───────────┐\n",
       "│ id  ┆ city   ┆ state ┆ country ┆ name             ┆ latitude ┆ longitude │\n",
       "│ --- ┆ ---    ┆ ---   ┆ ---     ┆ ---              ┆ ---      ┆ ---       │\n",
       "│ i64 ┆ str    ┆ str   ┆ str     ┆ str              ┆ f64      ┆ f64       │\n",
       "╞═════╪════════╪═══════╪═════════╪══════════════════╪══════════╪═══════════╡\n",
       "│ 1   ┆ Goiana ┆ PE    ┆ BR      ┆ Carne de Vaca    ┆ 0.0      ┆ 0.0       │\n",
       "│ 2   ┆ Goiana ┆ PE    ┆ BR      ┆ Pontas de Pedras ┆ 0.0      ┆ 0.0       │\n",
       "│ 3   ┆ Goiana ┆ PE    ┆ BR      ┆ Barra de Catuama ┆ 0.0      ┆ 0.0       │\n",
       "│ 4   ┆ Goiana ┆ PE    ┆ BR      ┆ catuama          ┆ 0.0      ┆ 0.0       │\n",
       "│ 5   ┆ Goiana ┆ PE    ┆ BR      ┆ Atapuz           ┆ 0.0      ┆ 0.0       │\n",
       "└─────┴────────┴───────┴─────────┴──────────────────┴──────────┴───────────┘"
      ]
     },
     "execution_count": 15,
     "metadata": {},
     "output_type": "execute_result"
    }
   ],
   "source": [
    "from app.core.models import Beach\n",
    "\n",
    "data = Beach.objects.values()\n",
    "beach_df = pl.DataFrame(list(data))\n",
    "beach_df.head()"
   ]
  },
  {
   "cell_type": "code",
   "execution_count": 16,
   "metadata": {},
   "outputs": [],
   "source": [
    "tmp_folder = \".\"\n",
    "\n",
    "atk_parquet = f\"{tmp_folder}/attacks.parquet\"\n",
    "bch_parquet = f\"{tmp_folder}/beaches.parquet\"\n",
    "\n",
    "attack_df.write_parquet(f\"{tmp_folder}/attacks.parquet\", use_pyarrow=True)\n",
    "beach_df.write_parquet(f\"{tmp_folder}/beaches.parquet\", use_pyarrow=True)"
   ]
  },
  {
   "cell_type": "code",
   "execution_count": 17,
   "metadata": {},
   "outputs": [],
   "source": [
    "import duckdb\n",
    "\n",
    "con = duckdb.connect()"
   ]
  },
  {
   "cell_type": "code",
   "execution_count": 28,
   "metadata": {},
   "outputs": [
    {
     "data": {
      "text/plain": [
       "[(57, 'Fernando de Noronha Marine Park', 'Barra de Sirinhaem', '2017-02-06'),\n",
       " (3, 'Body recovered at Goiana', 'Barra de Catuama', '2006-07-10'),\n",
       " (15, 'Fernano de Noronha', 'Forno de Cal', '2015-12-21'),\n",
       " (33, 'Punta Del Chifre Beach, Olinda', 'Del Chifre', '2011-11-12'),\n",
       " (27, 'Coral Cove Beach', 'Rio Doce', '2013-05-23'),\n",
       " (33, 'Punta Del Chifre Beach, Olinda', 'Del Chifre', '2006-06-18'),\n",
       " (33, 'Punta Del Chifre, Olinda', 'Del Chifre', '2008-06-11'),\n",
       " (27, 'Coral Cove, Cabo de Santo Agostinho', 'Rio Doce', '2012-08-26'),\n",
       " (62, 'Itamaracá', 'Tamandaré', '2007-12-07'),\n",
       " (35, 'Praia do Pina', 'Pina', '2011-07-31'),\n",
       " (35, 'Praia do Pina', 'Pina', '2011-06-29'),\n",
       " (24, 'Praia de Pau Amarelo, Recife', 'Pau Amarelo', '1991-04-24'),\n",
       " (37,\n",
       "  'Piedade Beach, Jaboatão dos Guararapes City, Recife',\n",
       "  'Piedade',\n",
       "  '2002-10-14'),\n",
       " (37, 'Piedade Beach, Recife', 'Piedade', '2004-05-22'),\n",
       " (72, 'Cacimba do Padre Beach', 'Cacimba do Padre', '2021-01-13'),\n",
       " (37, 'Piedade Beach', 'Piedade', '2004-05-23'),\n",
       " (36, 'Boa Viagem Beach, Recife', 'Boa Viagem, Recife', '2013-07-22'),\n",
       " (37, 'Piedade Beach', 'Piedade', '2004-03-29'),\n",
       " (36, 'Boa Viagem Beach, Recife', 'Boa Viagem, Recife', '1998-10-04'),\n",
       " (37, 'Piedade Beach, Recife', 'Piedade', '2004-02-29'),\n",
       " (33, 'Praia del Chifre, Olinda', 'Del Chifre', '2015-03-31'),\n",
       " (36, 'Boa Viagem Beach, Recife', 'Boa Viagem, Recife', '2006-05-21'),\n",
       " (36, 'Boa Viagem Beach, Recife', 'Boa Viagem, Recife', '1999-05-01'),\n",
       " (36, 'Boa Viagem Beach, Recife', 'Boa Viagem, Recife', '2002-03-24'),\n",
       " (36, 'Boa Viagem Beach, Recife', 'Boa Viagem, Recife', '1998-11-02'),\n",
       " (24,\n",
       "  'Pau Amarelo Beach, Paulista District (17 km from Recife)',\n",
       "  'Pau Amarelo',\n",
       "  '2003-04-23'),\n",
       " (36, 'Boa Viagem Beach, Recife', 'Boa Viagem, Recife', '2002-12-01'),\n",
       " (37, 'Piedade Beach, Jaboatão dos Guararapes City', 'Piedade', '2002-09-16'),\n",
       " (37, 'Piedade Beach, Recife', 'Piedade', '2002-07-10'),\n",
       " (36, 'Boa Viagem Beach, Recife', 'Boa Viagem, Recife', '2001-03-03'),\n",
       " (36, 'Boa Viagem Beach, Recife', 'Boa Viagem, Recife', '2004-08-21'),\n",
       " (37, 'Piedade Beach, Recife', 'Piedade', '2018-06-03'),\n",
       " (36, 'Boa Viagem Beach, Recife', 'Boa Viagem, Recife', '1999-12-26'),\n",
       " (38, 'Candeias', 'Candeias', '1995-07-07'),\n",
       " (36, 'Boa Viagem, Recife', 'Boa Viagem, Recife', '1997-09-16'),\n",
       " (37, 'Piedade', 'Piedade', '1980-11-11'),\n",
       " (37, 'Piedade', 'Piedade', '2004-05-01'),\n",
       " (37, 'Piedade', 'Piedade', '1994-12-13'),\n",
       " (39, 'Barra de Jangada', 'Barra de Jangada', '1996-10-28'),\n",
       " (35, 'Pina, Recife', 'Pina', '2004-09-08'),\n",
       " (37, 'Piedade, Recife', 'Piedade', '2009-09-13'),\n",
       " (37, 'Piedade', 'Piedade', '1994-10-17'),\n",
       " (37, 'Piedade', 'Piedade', '1994-10-18'),\n",
       " (36, 'Boa Viagem, Recife', 'Boa Viagem, Recife', '1998-04-01'),\n",
       " (40, 'Paiva', 'Paiva', '1994-12-01'),\n",
       " (40, 'Paiva', 'Paiva', '1994-12-11'),\n",
       " (38, 'Candeias', 'Candeias', '2002-01-03'),\n",
       " (37, 'Piedade, Recife', 'Piedade', '2008-06-01'),\n",
       " (36, 'Boa Viagem, Recife', 'Boa Viagem, Recife', '2017-01-24'),\n",
       " (37, 'Piedade', 'Piedade', '2018-04-15'),\n",
       " (37, 'Piedade', 'Piedade', '2021-07-25'),\n",
       " (36, 'Boa Viagem, Recife', 'Boa Viagem, Recife', '1997-07-17'),\n",
       " (39, 'Barra de Jangada', 'Barra de Jangada', '1996-10-28'),\n",
       " (36, 'Boa Viagem, Recife', 'Boa Viagem, Recife', '1993-06-30'),\n",
       " (36, 'Boa Viagem, Recife', 'Boa Viagem, Recife', '1994-03-01'),\n",
       " (36, 'Boa Viagem, Recife', 'Boa Viagem, Recife', '1995-08-27'),\n",
       " (37, 'Piedade', 'Piedade', '1994-01-31'),\n",
       " (36, 'Boa Viagem, Recife', 'Boa Viagem, Recife', '1994-07-24'),\n",
       " (37, 'Piedade', 'Piedade', '1947-10-10'),\n",
       " (36, 'Boa Viagem, Recife', 'Boa Viagem, Recife', '1998-07-26'),\n",
       " (37, 'Piedade', 'Piedade', '2021-07-10'),\n",
       " (37, 'Piedade', 'Piedade', '1993-01-23'),\n",
       " (40, 'Paiva', 'Paiva', '1993-03-27'),\n",
       " (37, 'Piedade, Recife', 'Piedade', '2009-09-07'),\n",
       " (36, 'Boa Viagem, Recife', 'Boa Viagem, Recife', '1994-07-08'),\n",
       " (36, 'Boa Viagem, Recife', 'Boa Viagem, Recife', '1994-07-09'),\n",
       " (40, 'Paiva', 'Paiva', '1997-07-02'),\n",
       " (35, 'Pina, Recife', 'Pina', '2002-05-10'),\n",
       " (37, 'Piedade', 'Piedade', '1992-06-28'),\n",
       " (36, 'Boa Viagem, Recife', 'Boa Viagem, Recife', '1992-09-18'),\n",
       " (36, 'Boa Viagem, Recife', 'Boa Viagem, Recife', '1996-04-07'),\n",
       " (37, 'Piedade', 'Piedade', '2006-04-09'),\n",
       " (37, 'Piedade, Recife', 'Piedade', '2003-06-24'),\n",
       " (36, 'Boa Viagem, Recife', 'Boa Viagem, Recife', '1992-09-10'),\n",
       " (37, 'Piedade', 'Piedade', '1995-01-02'),\n",
       " (35, 'Pina', 'Pina', '2006-08-22'),\n",
       " (1, None, 'Carne de Vaca', '1996-10-01')]"
      ]
     },
     "execution_count": 28,
     "metadata": {},
     "output_type": "execute_result"
    }
   ],
   "source": [
    "data = con.execute(f\"\"\"\n",
    "    with distances as (\n",
    "        select\n",
    "            bch.id as bch_id,\n",
    "            atk.original_order as atk_id,\n",
    "            bch.country as country,\n",
    "            bch.state as state,\n",
    "            regexp_replace(lower(bch.name), 'praia|beach', '', 'g') as beach_name,\n",
    "            regexp_replace(lower(atk.location), 'praia|beach', '', 'g') as atk_location,\n",
    "            regexp_replace(str_split(lower(atk.location), ',')[1], 'praia|beach|(\\s\\s)', '', 'g') as seg_atk_location,\n",
    "            levenshtein(beach_name, atk_location) as distance,\n",
    "            levenshtein(beach_name, seg_atk_location) as seg_distance,\n",
    "            least(distance, seg_distance) as smaller_distance,\n",
    "            min(smaller_distance) over (partition by atk_id) as min_distance,\n",
    "            first(bch_id) over (partition by atk_id order by smaller_distance) as closest\n",
    "        from read_parquet(\"{bch_parquet}\") bch\n",
    "        join read_parquet(\"{atk_parquet}\") atk\n",
    "            on bch.country = atk.country and bch.state = atk.state\n",
    "    ),\n",
    "    closests as (\n",
    "        select\n",
    "            d.atk_id,\n",
    "            first(d.min_distance) as min_distance,\n",
    "            first(d.closest) as bch_id,\n",
    "        from distances d\n",
    "        group by 1\n",
    "    )\n",
    "    select\n",
    "        bch.id as beach_id,\n",
    "        atk.location,\n",
    "        bch.name,\n",
    "        atk.date,\n",
    "    from closests c\n",
    "    join read_parquet(\"{bch_parquet}\") bch on bch.id = c.bch_id\n",
    "    join read_parquet(\"{atk_parquet}\") atk on atk.original_order = c.atk_id\n",
    "    order by c.min_distance desc\n",
    "\"\"\").fetchall()\n",
    "\n",
    "data"
   ]
  },
  {
   "cell_type": "code",
   "execution_count": 19,
   "metadata": {},
   "outputs": [
    {
     "data": {
      "text/html": [
       "<div><style>\n",
       ".dataframe > thead > tr > th,\n",
       ".dataframe > tbody > tr > td {\n",
       "  text-align: right;\n",
       "}\n",
       "</style>\n",
       "<small>shape: (5, 23)</small><table border=\"1\" class=\"dataframe\"><thead><tr><th>beach_id</th><th>date</th><th>year</th><th>type</th><th>country</th><th>location</th><th>activity</th><th>name</th><th>sex</th><th>age</th><th>injury</th><th>fatal_y_n</th><th>time</th><th>species</th><th>investigator_or_source</th><th>pdf</th><th>href_formula</th><th>href</th><th>case_number</th><th>case_number0</th><th>original_order</th><th>state</th><th>fatal</th></tr><tr><td>i64</td><td>str</td><td>i64</td><td>str</td><td>str</td><td>str</td><td>str</td><td>str</td><td>str</td><td>f32</td><td>str</td><td>str</td><td>str</td><td>str</td><td>str</td><td>str</td><td>str</td><td>str</td><td>str</td><td>str</td><td>i64</td><td>str</td><td>bool</td></tr></thead><tbody><tr><td>57</td><td>&quot;2017-02-06&quot;</td><td>2017</td><td>&quot;Provoked&quot;</td><td>&quot;BR&quot;</td><td>&quot;Fernando de No…</td><td>&quot;Grabbing shark…</td><td>&quot;female&quot;</td><td>&quot;F&quot;</td><td>null</td><td>&quot;Minor injury t…</td><td>&quot;N&quot;</td><td>&quot;Afternoon&quot;</td><td>&quot;Lemon shark pu…</td><td>&quot;O Popular, 2/7…</td><td>&quot;2017.02.06.b-B…</td><td>&quot;http://sharkat…</td><td>&quot;http://sharkat…</td><td>&quot;2017.02.06.b&quot;</td><td>&quot;2017.02.06.b&quot;</td><td>6152</td><td>&quot;PE&quot;</td><td>false</td></tr><tr><td>3</td><td>&quot;2006-07-10&quot;</td><td>2006</td><td>&quot;Unprovoked&quot;</td><td>&quot;BR&quot;</td><td>&quot;Body recovered…</td><td>null</td><td>&quot;Unidentified&quot;</td><td>&quot;M&quot;</td><td>null</td><td>&quot;FATAL&quot;</td><td>&quot;Y&quot;</td><td>null</td><td>&quot;Bull or tiger …</td><td>&quot;Qualittas; F. …</td><td>&quot;2006.07.10-Goi…</td><td>&quot;http://sharkat…</td><td>&quot;http://sharkat…</td><td>&quot;2006.07.10&quot;</td><td>&quot;2006.07.10&quot;</td><td>4867</td><td>&quot;PE&quot;</td><td>true</td></tr><tr><td>15</td><td>&quot;2015-12-21&quot;</td><td>2015</td><td>&quot;Unprovoked&quot;</td><td>&quot;BR&quot;</td><td>&quot;Fernano de Nor…</td><td>&quot;Scuba diving&quot;</td><td>&quot;Márcio de Cast…</td><td>&quot;M&quot;</td><td>32.0</td><td>&quot;Right hand &amp; p…</td><td>&quot;N&quot;</td><td>null</td><td>&quot;Tiger shark, 1…</td><td>&quot;Fox News, 12/2…</td><td>&quot;2015.12.21.a-B…</td><td>&quot;http://sharkat…</td><td>&quot;http://sharkat…</td><td>&quot;2015.12.21.a&quot;</td><td>&quot;2015.12.21.a&quot;</td><td>6004</td><td>&quot;PE&quot;</td><td>false</td></tr><tr><td>33</td><td>&quot;2011-11-12&quot;</td><td>2011</td><td>&quot;Unprovoked&quot;</td><td>&quot;BR&quot;</td><td>&quot;Punta Del Chif…</td><td>&quot;Surfing&quot;</td><td>&quot;Jerônimo Perei…</td><td>&quot;M&quot;</td><td>35.0</td><td>&quot;Legs bitten&quot;</td><td>&quot;N&quot;</td><td>null</td><td>null</td><td>&quot;H. Nickel &amp; A.…</td><td>&quot;2011.11.12-Per…</td><td>&quot;http://sharkat…</td><td>&quot;http://sharkat…</td><td>&quot;2011.11.12&quot;</td><td>&quot;2011.11.12&quot;</td><td>5483</td><td>&quot;PE&quot;</td><td>false</td></tr><tr><td>27</td><td>&quot;2013-05-23&quot;</td><td>2013</td><td>&quot;Unprovoked&quot;</td><td>&quot;BR&quot;</td><td>&quot;Coral Cove Bea…</td><td>null</td><td>&quot;José Rogério d…</td><td>&quot;M&quot;</td><td>41.0</td><td>&quot;FATAL&quot;</td><td>&quot;Y&quot;</td><td>null</td><td>null</td><td>&quot;JC Online, 6/6…</td><td>&quot;2013.05.25.b-d…</td><td>&quot;http://sharkat…</td><td>&quot;http://sharkat…</td><td>&quot;2013.05.23.b&quot;</td><td>&quot;2013.05.23.b&quot;</td><td>5655</td><td>&quot;PE&quot;</td><td>true</td></tr></tbody></table></div>"
      ],
      "text/plain": [
       "shape: (5, 23)\n",
       "┌──────────┬────────────┬──────┬────────────┬───┬──────────────┬────────────────┬───────┬───────┐\n",
       "│ beach_id ┆ date       ┆ year ┆ type       ┆ … ┆ case_number0 ┆ original_order ┆ state ┆ fatal │\n",
       "│ ---      ┆ ---        ┆ ---  ┆ ---        ┆   ┆ ---          ┆ ---            ┆ ---   ┆ ---   │\n",
       "│ i64      ┆ str        ┆ i64  ┆ str        ┆   ┆ str          ┆ i64            ┆ str   ┆ bool  │\n",
       "╞══════════╪════════════╪══════╪════════════╪═══╪══════════════╪════════════════╪═══════╪═══════╡\n",
       "│ 57       ┆ 2017-02-06 ┆ 2017 ┆ Provoked   ┆ … ┆ 2017.02.06.b ┆ 6152           ┆ PE    ┆ false │\n",
       "│ 3        ┆ 2006-07-10 ┆ 2006 ┆ Unprovoked ┆ … ┆ 2006.07.10   ┆ 4867           ┆ PE    ┆ true  │\n",
       "│ 15       ┆ 2015-12-21 ┆ 2015 ┆ Unprovoked ┆ … ┆ 2015.12.21.a ┆ 6004           ┆ PE    ┆ false │\n",
       "│ 33       ┆ 2011-11-12 ┆ 2011 ┆ Unprovoked ┆ … ┆ 2011.11.12   ┆ 5483           ┆ PE    ┆ false │\n",
       "│ 27       ┆ 2013-05-23 ┆ 2013 ┆ Unprovoked ┆ … ┆ 2013.05.23.b ┆ 5655           ┆ PE    ┆ true  │\n",
       "└──────────┴────────────┴──────┴────────────┴───┴──────────────┴────────────────┴───────┴───────┘"
      ]
     },
     "execution_count": 19,
     "metadata": {},
     "output_type": "execute_result"
    }
   ],
   "source": [
    "fatal_map = {\n",
    "    \"Y\": True,\n",
    "    \"N\": False,\n",
    "}\n",
    "\n",
    "data.with_columns(\n",
    "    pl.col(\"fatal_y_n\").map_dict(fatal_map, default=None).alias(\"fatal\"), \n",
    "    pl.col(\"age\").cast(pl.Float32, strict=False).alias(\"age\")\n",
    ").head()"
   ]
  },
  {
   "cell_type": "code",
   "execution_count": 20,
   "metadata": {},
   "outputs": [
    {
     "data": {
      "text/plain": [
       "[<SharkAttack: SharkAttack object (1)>,\n",
       " <SharkAttack: SharkAttack object (2)>,\n",
       " <SharkAttack: SharkAttack object (3)>,\n",
       " <SharkAttack: SharkAttack object (4)>,\n",
       " <SharkAttack: SharkAttack object (5)>,\n",
       " <SharkAttack: SharkAttack object (6)>,\n",
       " <SharkAttack: SharkAttack object (7)>,\n",
       " <SharkAttack: SharkAttack object (8)>,\n",
       " <SharkAttack: SharkAttack object (9)>,\n",
       " <SharkAttack: SharkAttack object (10)>,\n",
       " <SharkAttack: SharkAttack object (11)>,\n",
       " <SharkAttack: SharkAttack object (12)>,\n",
       " <SharkAttack: SharkAttack object (13)>,\n",
       " <SharkAttack: SharkAttack object (14)>,\n",
       " <SharkAttack: SharkAttack object (15)>,\n",
       " <SharkAttack: SharkAttack object (16)>,\n",
       " <SharkAttack: SharkAttack object (17)>,\n",
       " <SharkAttack: SharkAttack object (18)>,\n",
       " <SharkAttack: SharkAttack object (19)>,\n",
       " <SharkAttack: SharkAttack object (20)>,\n",
       " <SharkAttack: SharkAttack object (21)>,\n",
       " <SharkAttack: SharkAttack object (22)>,\n",
       " <SharkAttack: SharkAttack object (23)>,\n",
       " <SharkAttack: SharkAttack object (24)>,\n",
       " <SharkAttack: SharkAttack object (25)>,\n",
       " <SharkAttack: SharkAttack object (26)>,\n",
       " <SharkAttack: SharkAttack object (27)>,\n",
       " <SharkAttack: SharkAttack object (28)>,\n",
       " <SharkAttack: SharkAttack object (29)>,\n",
       " <SharkAttack: SharkAttack object (30)>,\n",
       " <SharkAttack: SharkAttack object (31)>,\n",
       " <SharkAttack: SharkAttack object (32)>,\n",
       " <SharkAttack: SharkAttack object (33)>,\n",
       " <SharkAttack: SharkAttack object (34)>,\n",
       " <SharkAttack: SharkAttack object (35)>,\n",
       " <SharkAttack: SharkAttack object (36)>,\n",
       " <SharkAttack: SharkAttack object (37)>,\n",
       " <SharkAttack: SharkAttack object (38)>,\n",
       " <SharkAttack: SharkAttack object (39)>,\n",
       " <SharkAttack: SharkAttack object (40)>,\n",
       " <SharkAttack: SharkAttack object (41)>,\n",
       " <SharkAttack: SharkAttack object (42)>,\n",
       " <SharkAttack: SharkAttack object (43)>,\n",
       " <SharkAttack: SharkAttack object (44)>,\n",
       " <SharkAttack: SharkAttack object (45)>,\n",
       " <SharkAttack: SharkAttack object (46)>,\n",
       " <SharkAttack: SharkAttack object (47)>,\n",
       " <SharkAttack: SharkAttack object (48)>,\n",
       " <SharkAttack: SharkAttack object (49)>,\n",
       " <SharkAttack: SharkAttack object (50)>,\n",
       " <SharkAttack: SharkAttack object (51)>,\n",
       " <SharkAttack: SharkAttack object (52)>,\n",
       " <SharkAttack: SharkAttack object (53)>,\n",
       " <SharkAttack: SharkAttack object (54)>,\n",
       " <SharkAttack: SharkAttack object (55)>,\n",
       " <SharkAttack: SharkAttack object (56)>,\n",
       " <SharkAttack: SharkAttack object (57)>,\n",
       " <SharkAttack: SharkAttack object (58)>,\n",
       " <SharkAttack: SharkAttack object (59)>,\n",
       " <SharkAttack: SharkAttack object (60)>,\n",
       " <SharkAttack: SharkAttack object (61)>,\n",
       " <SharkAttack: SharkAttack object (62)>,\n",
       " <SharkAttack: SharkAttack object (63)>,\n",
       " <SharkAttack: SharkAttack object (64)>,\n",
       " <SharkAttack: SharkAttack object (65)>,\n",
       " <SharkAttack: SharkAttack object (66)>,\n",
       " <SharkAttack: SharkAttack object (67)>,\n",
       " <SharkAttack: SharkAttack object (68)>,\n",
       " <SharkAttack: SharkAttack object (69)>,\n",
       " <SharkAttack: SharkAttack object (70)>,\n",
       " <SharkAttack: SharkAttack object (71)>,\n",
       " <SharkAttack: SharkAttack object (72)>,\n",
       " <SharkAttack: SharkAttack object (73)>,\n",
       " <SharkAttack: SharkAttack object (74)>,\n",
       " <SharkAttack: SharkAttack object (75)>,\n",
       " <SharkAttack: SharkAttack object (76)>,\n",
       " <SharkAttack: SharkAttack object (77)>]"
      ]
     },
     "execution_count": 20,
     "metadata": {},
     "output_type": "execute_result"
    }
   ],
   "source": [
    "from app.core.models import SharkAttack\n",
    "\n",
    "fatal_map = {\n",
    "    \"Y\": True,\n",
    "    \"N\": False,\n",
    "}\n",
    "\n",
    "processed_data = data.with_columns(\n",
    "    pl.col(\"fatal_y_n\").map_dict(fatal_map, default=None).alias(\"fatal\"),  \n",
    "    pl.col(\"age\").cast(pl.Float32, strict=False).alias(\"age\")\n",
    ")\n",
    "\n",
    "attacks = []\n",
    "\n",
    "for atk in processed_data.to_dicts():\n",
    "    atk = SharkAttack(\n",
    "        beach_id=atk[\"beach_id\"],\n",
    "        date=atk[\"date\"],\n",
    "        type=atk[\"type\"],\n",
    "        country=atk[\"country\"],\n",
    "        state=atk[\"state\"],\n",
    "        location=atk[\"location\"],\n",
    "        activity=atk[\"activity\"],\n",
    "        victim_name=atk[\"name\"],\n",
    "        victim_gender=atk[\"sex\"],\n",
    "        victim_age=atk[\"age\"],\n",
    "        victim_injury=atk[\"injury\"],\n",
    "        fatal=atk[\"fatal\"],\n",
    "        time=atk[\"time\"],\n",
    "        species=atk[\"species\"],\n",
    "        source=atk[\"investigator_or_source\"],\n",
    "    )\n",
    "    attacks.append(atk)\n",
    "\n",
    "SharkAttack.objects.bulk_create(attacks)"
   ]
  }
 ],
 "metadata": {
  "kernelspec": {
   "display_name": "Django Shell-Plus",
   "language": "python",
   "name": "django_extensions"
  },
  "language_info": {
   "codemirror_mode": {
    "name": "ipython",
    "version": 3
   },
   "file_extension": ".py",
   "mimetype": "text/x-python",
   "name": "python",
   "nbconvert_exporter": "python",
   "pygments_lexer": "ipython3",
   "version": "3.11.4"
  }
 },
 "nbformat": 4,
 "nbformat_minor": 4
}
