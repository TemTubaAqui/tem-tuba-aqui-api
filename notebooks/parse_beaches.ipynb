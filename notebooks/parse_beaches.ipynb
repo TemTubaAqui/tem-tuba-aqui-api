{
 "cells": [
  {
   "cell_type": "code",
   "execution_count": 1,
   "id": "6f17d005",
   "metadata": {},
   "outputs": [],
   "source": [
    "%load_ext autoreload\n",
    "%autoreload 2"
   ]
  },
  {
   "cell_type": "code",
   "execution_count": 2,
   "id": "b88dbe52-379f-48b6-a6ef-8c0617ac8b19",
   "metadata": {},
   "outputs": [],
   "source": [
    "import requests\n",
    "from bs4 import BeautifulSoup"
   ]
  },
  {
   "cell_type": "code",
   "execution_count": 3,
   "id": "6ba9b132-0a82-4c05-900f-01f4e447b3e1",
   "metadata": {},
   "outputs": [],
   "source": [
    "def get_html(url: str):\n",
    "    res = requests.get(url)\n",
    "    return res.text"
   ]
  },
  {
   "cell_type": "code",
   "execution_count": 4,
   "id": "c777c20f",
   "metadata": {},
   "outputs": [],
   "source": [
    "page_url = \"https://pt.wikipedia.org/wiki/Lista_de_praias_de_Pernambuco\"\n",
    "\n",
    "html = get_html(page_url)\n",
    "soup = BeautifulSoup(html, 'lxml')"
   ]
  },
  {
   "cell_type": "code",
   "execution_count": 29,
   "id": "659b5726",
   "metadata": {},
   "outputs": [
    {
     "data": {
      "text/plain": [
       "[('Goiana', 'Goiana'),\n",
       " ('Ilha de Itamaracá', 'Ilha_de_Itamaracá'),\n",
       " ('Igarassu', 'Igarassu'),\n",
       " ('Paulista', 'Paulista'),\n",
       " ('Olinda', 'Olinda'),\n",
       " ('Recife', 'Recife'),\n",
       " ('Jaboatão', 'Jaboatão'),\n",
       " ('Cabo de Santo Agostinho', 'Cabo_de_Santo_Agostinho'),\n",
       " ('Ipojuca', 'Ipojuca'),\n",
       " ('Sirinhaém', 'Sirinhaém'),\n",
       " ('Rio Formoso', 'Rio_Formoso'),\n",
       " ('Tamandaré', 'Tamandaré'),\n",
       " ('Barreiros', 'Barreiros'),\n",
       " ('São José da Coroa Grande', 'São_José_da_Coroa_Grande'),\n",
       " ('Ilhas de Fernando de Noronha', 'Ilhas_de_Fernando_de_Noronha')]"
      ]
     },
     "execution_count": 29,
     "metadata": {},
     "output_type": "execute_result"
    }
   ],
   "source": [
    "cities = soup.select(\".mw-parser-output>h2>span.mw-headline:not(#Galeria,#Referências)\")\n",
    "cities = [(city.text, city.get(\"id\")) for city in cities]\n",
    "cities"
   ]
  },
  {
   "cell_type": "code",
   "execution_count": 74,
   "id": "62cc32bf",
   "metadata": {},
   "outputs": [],
   "source": [
    "tags = soup.select(f\".mw-parser-output > *:is(h2, ul)\")\n",
    "\n",
    "grouped = []\n",
    "group = None\n",
    "for tag in tags:\n",
    "    if tag.name == \"h2\":\n",
    "        if tag.select_one(\".mw-headline\").get(\"id\") == \"Galeria\":\n",
    "            break\n",
    "\n",
    "        city = tag.select(\".mw-headline\")\n",
    "        assert city, \"City not found\"\n",
    "        city = city[0].text\n",
    "        if not group:\n",
    "            group = [city, []]\n",
    "        else:\n",
    "            grouped.append(group)\n",
    "            group = [city, []]\n",
    "    else:\n",
    "        beaches = tag.select(\"li\")\n",
    "        beaches = [beach.text for beach in beaches]\n",
    "        group[1].extend(beaches)\n",
    "\n",
    "grouped.append(group)"
   ]
  },
  {
   "cell_type": "code",
   "execution_count": 76,
   "id": "881df251",
   "metadata": {},
   "outputs": [
    {
     "data": {
      "text/html": [
       "<div>\n",
       "<style scoped>\n",
       "    .dataframe tbody tr th:only-of-type {\n",
       "        vertical-align: middle;\n",
       "    }\n",
       "\n",
       "    .dataframe tbody tr th {\n",
       "        vertical-align: top;\n",
       "    }\n",
       "\n",
       "    .dataframe thead th {\n",
       "        text-align: right;\n",
       "    }\n",
       "</style>\n",
       "<table border=\"1\" class=\"dataframe\">\n",
       "  <thead>\n",
       "    <tr style=\"text-align: right;\">\n",
       "      <th></th>\n",
       "      <th>city</th>\n",
       "      <th>beach</th>\n",
       "    </tr>\n",
       "  </thead>\n",
       "  <tbody>\n",
       "    <tr>\n",
       "      <th>0</th>\n",
       "      <td>Goiana</td>\n",
       "      <td>Carne de Vaca</td>\n",
       "    </tr>\n",
       "    <tr>\n",
       "      <th>1</th>\n",
       "      <td>Goiana</td>\n",
       "      <td>Pontas de Pedras</td>\n",
       "    </tr>\n",
       "    <tr>\n",
       "      <th>2</th>\n",
       "      <td>Goiana</td>\n",
       "      <td>Barra de Catuama</td>\n",
       "    </tr>\n",
       "    <tr>\n",
       "      <th>3</th>\n",
       "      <td>Goiana</td>\n",
       "      <td>catuama</td>\n",
       "    </tr>\n",
       "    <tr>\n",
       "      <th>4</th>\n",
       "      <td>Goiana</td>\n",
       "      <td>Atapuz</td>\n",
       "    </tr>\n",
       "    <tr>\n",
       "      <th>...</th>\n",
       "      <td>...</td>\n",
       "      <td>...</td>\n",
       "    </tr>\n",
       "    <tr>\n",
       "      <th>86</th>\n",
       "      <td>Ilhas de Fernando de Noronha</td>\n",
       "      <td>Atalaia</td>\n",
       "    </tr>\n",
       "    <tr>\n",
       "      <th>87</th>\n",
       "      <td>Ilhas de Fernando de Noronha</td>\n",
       "      <td>Enseada da Caeira</td>\n",
       "    </tr>\n",
       "    <tr>\n",
       "      <th>88</th>\n",
       "      <td>Ilhas de Fernando de Noronha</td>\n",
       "      <td>Buraco da Raquel</td>\n",
       "    </tr>\n",
       "    <tr>\n",
       "      <th>89</th>\n",
       "      <td>Ilhas de Fernando de Noronha</td>\n",
       "      <td>Caeira</td>\n",
       "    </tr>\n",
       "    <tr>\n",
       "      <th>90</th>\n",
       "      <td>Ilhas de Fernando de Noronha</td>\n",
       "      <td>Ponta da Air France</td>\n",
       "    </tr>\n",
       "  </tbody>\n",
       "</table>\n",
       "<p>91 rows × 2 columns</p>\n",
       "</div>"
      ],
      "text/plain": [
       "                            city                beach\n",
       "0                         Goiana        Carne de Vaca\n",
       "1                         Goiana     Pontas de Pedras\n",
       "2                         Goiana     Barra de Catuama\n",
       "3                         Goiana              catuama\n",
       "4                         Goiana               Atapuz\n",
       "..                           ...                  ...\n",
       "86  Ilhas de Fernando de Noronha              Atalaia\n",
       "87  Ilhas de Fernando de Noronha    Enseada da Caeira\n",
       "88  Ilhas de Fernando de Noronha     Buraco da Raquel\n",
       "89  Ilhas de Fernando de Noronha               Caeira\n",
       "90  Ilhas de Fernando de Noronha  Ponta da Air France\n",
       "\n",
       "[91 rows x 2 columns]"
      ]
     },
     "execution_count": 76,
     "metadata": {},
     "output_type": "execute_result"
    }
   ],
   "source": [
    "import pandas as pd\n",
    "\n",
    "data = []\n",
    "\n",
    "for city, beaches in grouped:\n",
    "    for beach in beaches:\n",
    "        data.append({\n",
    "            'city': city,\n",
    "            'beach': beach\n",
    "        })\n",
    "\n",
    "pd.DataFrame(data)"
   ]
  }
 ],
 "metadata": {
  "kernelspec": {
   "display_name": "Python 3",
   "language": "python",
   "name": "python3"
  },
  "language_info": {
   "codemirror_mode": {
    "name": "ipython",
    "version": 3
   },
   "file_extension": ".py",
   "mimetype": "text/x-python",
   "name": "python",
   "nbconvert_exporter": "python",
   "pygments_lexer": "ipython3",
   "version": "3.11.4"
  }
 },
 "nbformat": 4,
 "nbformat_minor": 5
}
